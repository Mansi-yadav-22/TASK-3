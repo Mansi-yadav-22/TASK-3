{
  "nbformat": 4,
  "nbformat_minor": 0,
  "metadata": {
    "colab": {
      "provenance": []
    },
    "kernelspec": {
      "name": "python3",
      "display_name": "Python 3"
    },
    "language_info": {
      "name": "python"
    }
  },
  "cells": [
    {
      "cell_type": "code",
      "source": [
        "import random\n",
        "\n",
        "def guess_the_number():\n",
        "\n",
        "  number=random.randint(1,10)\n",
        "  attempts=0\n",
        "  print(\"I'm thinking of a number between 1 and 100.\")\n",
        "\n",
        "  while True:\n",
        "    try:\n",
        "      guess=int(input(\"Take a guess: \"))\n",
        "    except ValueError:\n",
        "      print(\"Invalid input. Please enter a number.\")\n",
        "      continue\n",
        "\n",
        "    attempts+=1\n",
        "\n",
        "    if guess < number:\n",
        "      print(\"Too low!\")\n",
        "    elif guess > number:\n",
        "      print(\"Too high!\")\n",
        "    else:\n",
        "      print(f\"You got it! The number was {number}.\")\n",
        "      print(f\"It took you {attempts} attempts.\")\n",
        "      break\n",
        "\n",
        "if __name__==\"__main__\":\n",
        "  guess_the_number()\n"
      ],
      "metadata": {
        "colab": {
          "base_uri": "https://localhost:8080/"
        },
        "id": "FxW-Fbfe1ywe",
        "outputId": "8e06b564-6a3e-4032-b56f-d2605a4a0b95"
      },
      "execution_count": 8,
      "outputs": [
        {
          "output_type": "stream",
          "name": "stdout",
          "text": [
            "I'm thinking of a number between 1 and 100.\n",
            "Take a guess: 1\n",
            "Too low!\n",
            "Take a guess: 101\n",
            "Too high!\n",
            "Take a guess: 2\n",
            "Too low!\n",
            "Take a guess: 3\n",
            "You got it! The number was 3.\n",
            "It took you 4 attempts.\n"
          ]
        }
      ]
    }
  ]
}